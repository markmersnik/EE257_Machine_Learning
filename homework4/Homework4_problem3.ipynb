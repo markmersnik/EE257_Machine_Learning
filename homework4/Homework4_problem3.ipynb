{
 "cells": [
  {
   "cell_type": "code",
   "execution_count": 1,
   "metadata": {},
   "outputs": [],
   "source": [
    "import pandas as pd\n",
    "import numpy as np\n",
    "import matplotlib.pyplot as plt\n",
    "import sklearn.linear_model as skl_lm\n",
    "from sklearn.metrics import mean_squared_error\n",
    "from sklearn.model_selection import train_test_split, LeaveOneOut, KFold, cross_val_score\n",
    "from sklearn.preprocessing import PolynomialFeatures\n",
    "from sklearn.linear_model import LogisticRegression\n",
    "import statsmodels.api as sm\n",
    "import statsmodels.formula.api as smf\n",
    "\n",
    "np.random.seed(42)\n",
    "mu, sigma = 0, 1 #mean and standard deviation\n",
    "x = np.random.normal(mu, sigma, 100)\n",
    "n = np.random.normal(mu, sigma, 100)\n",
    "y = x - 2*x**2+n"
   ]
  },
  {
   "cell_type": "code",
   "execution_count": 2,
   "metadata": {},
   "outputs": [
    {
     "data": {
      "image/png": "[encoded data removed]",
      "text/plain": [
       "<Figure size 432x288 with 1 Axes>"
      ]
     },
     "metadata": {
      "needs_background": "light"
     },
     "output_type": "display_data"
    }
   ],
   "source": [
    "plt.scatter(x, y)\n",
    "plt.show()"
   ]
  },
  {
   "cell_type": "code",
   "execution_count": 4,
   "metadata": {},
   "outputs": [
    {
     "data": {
      "text/plain": [
       "0.9488886405106461"
      ]
     },
     "execution_count": 4,
     "metadata": {},
     "output_type": "execute_result"
    }
   ],
   "source": [
    "np.std(n)"
   ]
  },
  {
   "cell_type": "code",
   "execution_count": 22,
   "metadata": {},
   "outputs": [
    {
     "name": "stdout",
     "output_type": "stream",
     "text": [
      "[0.         1.34751263]\n",
      "The negative MSE of polynomial #1: -13.671850335938538\n",
      "\n",
      "[ 0.          0.88101982 -2.01596171]\n",
      "The negative MSE of polynomial #2: -1.0917916266189267\n",
      "\n",
      "[ 0.          0.80833786 -2.00991232  0.02044054]\n",
      "The negative MSE of polynomial #3: -1.1155769040248986\n",
      "\n",
      "[ 0.          0.77230515 -2.11745339  0.03002514  0.01608677]\n",
      "The negative MSE of polynomial #4: -1.2162271480556512\n",
      "\n"
     ]
    }
   ],
   "source": [
    "#LOOCV of random seed 12 \n",
    "np.random.seed(12)\n",
    "mu, sigma = 0, 1 #mean and standard deviation\n",
    "x = np.random.normal(mu, sigma, 100)\n",
    "n = np.random.normal(mu, sigma, 100)\n",
    "y = x - 2*x**2+n\n",
    "\n",
    "p_order = np.arange(1,5) #Ranges from polynomial of degree 1 to degree 4\n",
    "\n",
    "# LOOCV\n",
    "regr = skl_lm.LinearRegression()\n",
    "loo = LeaveOneOut()\n",
    "loo.get_n_splits(x)\n",
    "\n",
    "for i in p_order:\n",
    "    poly = PolynomialFeatures(i)\n",
    "    X_poly = poly.fit_transform(x.reshape(-1,1))\n",
    "    regr.fit(X_poly, y)\n",
    "    print(regr.coef_)\n",
    "    score = cross_val_score(regr, X_poly, y, cv=loo, scoring='neg_mean_squared_error').mean()\n",
    "    print(\"The negative MSE of polynomial #\" + str(i) + \": \" + str(score) + \"\\n\")"
   ]
  },
  {
   "cell_type": "code",
   "execution_count": 23,
   "metadata": {},
   "outputs": [
    {
     "name": "stdout",
     "output_type": "stream",
     "text": [
      "[0.         1.54905479]\n",
      "The negative MSE of polynomial #1: -11.483713574205192\n",
      "\n",
      "[ 0.          1.15826725 -2.09218603]\n",
      "The negative MSE of polynomial #2: -1.1030599565291779\n",
      "\n",
      "[ 0.          1.22975843 -2.09423452 -0.02277436]\n",
      "The negative MSE of polynomial #3: -1.1740764516212001\n",
      "\n",
      "[ 0.          1.26107467 -1.96856043 -0.0310109  -0.02141733]\n",
      "The negative MSE of polynomial #4: -1.2302982602736225\n",
      "\n"
     ]
    }
   ],
   "source": [
    "#LOOCV of random seed 12 \n",
    "np.random.seed(22)\n",
    "mu, sigma = 0, 1 #mean and standard deviation\n",
    "x = np.random.normal(mu, sigma, 100)\n",
    "n = np.random.normal(mu, sigma, 100)\n",
    "y = x - 2*x**2+n\n",
    "\n",
    "p_order = np.arange(1,5) #Ranges from polynomial of degree 1 to degree 4\n",
    "\n",
    "# LOOCV\n",
    "regr = skl_lm.LinearRegression()\n",
    "loo = LeaveOneOut()\n",
    "loo.get_n_splits(x)\n",
    "\n",
    "for i in p_order:\n",
    "    poly = PolynomialFeatures(i)\n",
    "    X_poly = poly.fit_transform(x.reshape(-1,1))\n",
    "    regr.fit(X_poly, y)\n",
    "    print(regr.coef_)\n",
    "    score = cross_val_score(regr, X_poly, y, cv=loo, scoring='neg_mean_squared_error').mean()\n",
    "    print(\"The negative MSE of polynomial #\" + str(i) + \": \" + str(score) + \"\\n\")"
   ]
  },
  {
   "cell_type": "code",
   "execution_count": null,
   "metadata": {},
   "outputs": [],
   "source": []
  }
 ],
 "metadata": {
  "kernelspec": {
   "display_name": "Python 3",
   "language": "python",
   "name": "python3"
  },
  "language_info": {
   "codemirror_mode": {
    "name": "ipython",
    "version": 3
   },
   "file_extension": ".py",
   "mimetype": "text/x-python",
   "name": "python",
   "nbconvert_exporter": "python",
   "pygments_lexer": "ipython3",
   "version": "3.7.5"
  }
 },
 "nbformat": 4,
 "nbformat_minor": 4
}
